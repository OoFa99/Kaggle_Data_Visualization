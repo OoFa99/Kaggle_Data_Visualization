{
 "cells": [
  {
   "cell_type": "markdown",
   "id": "ba4fd817",
   "metadata": {
    "papermill": {
     "duration": 0.008015,
     "end_time": "2023-02-26T19:25:39.627347",
     "exception": false,
     "start_time": "2023-02-26T19:25:39.619332",
     "status": "completed"
    },
    "tags": []
   },
   "source": [
    "**This notebook is an exercise in the [Data Visualization](https://www.kaggle.com/learn/data-visualization) course.  You can reference the tutorial at [this link](https://www.kaggle.com/alexisbcook/scatter-plots).**\n",
    "\n",
    "---\n"
   ]
  },
  {
   "cell_type": "markdown",
   "id": "26dc69ea",
   "metadata": {
    "papermill": {
     "duration": 0.006861,
     "end_time": "2023-02-26T19:25:39.641389",
     "exception": false,
     "start_time": "2023-02-26T19:25:39.634528",
     "status": "completed"
    },
    "tags": []
   },
   "source": [
    "In this exercise, you will use your new knowledge to propose a solution to a real-world scenario.  To succeed, you will need to import data into Python, answer questions using the data, and generate **scatter plots** to understand patterns in the data.\n",
    "\n",
    "## Scenario\n",
    "\n",
    "You work for a major candy producer, and your goal is to write a report that your company can use to guide the design of its next product.  Soon after starting your research, you stumble across this [very interesting dataset](https://fivethirtyeight.com/features/the-ultimate-halloween-candy-power-ranking/) containing results from a fun survey to crowdsource favorite candies.\n",
    "\n",
    "## Setup\n",
    "\n",
    "Run the next cell to import and configure the Python libraries that you need to complete the exercise."
   ]
  },
  {
   "cell_type": "code",
   "execution_count": 1,
   "id": "27e3c4b6",
   "metadata": {
    "execution": {
     "iopub.execute_input": "2023-02-26T19:25:39.657818Z",
     "iopub.status.busy": "2023-02-26T19:25:39.657457Z",
     "iopub.status.idle": "2023-02-26T19:25:41.191509Z",
     "shell.execute_reply": "2023-02-26T19:25:41.190748Z"
    },
    "papermill": {
     "duration": 1.546573,
     "end_time": "2023-02-26T19:25:41.194979",
     "exception": false,
     "start_time": "2023-02-26T19:25:39.648406",
     "status": "completed"
    },
    "tags": []
   },
   "outputs": [
    {
     "name": "stdout",
     "output_type": "stream",
     "text": [
      "Setup Complete\n"
     ]
    }
   ],
   "source": [
    "import pandas as pd\n",
    "pd.plotting.register_matplotlib_converters()\n",
    "import matplotlib.pyplot as plt\n",
    "%matplotlib inline\n",
    "import seaborn as sns\n",
    "print(\"Setup Complete\")"
   ]
  },
  {
   "cell_type": "markdown",
   "id": "39d2231d",
   "metadata": {
    "papermill": {
     "duration": 0.008854,
     "end_time": "2023-02-26T19:25:41.212086",
     "exception": false,
     "start_time": "2023-02-26T19:25:41.203232",
     "status": "completed"
    },
    "tags": []
   },
   "source": [
    "The questions below will give you feedback on your work. Run the following cell to set up our feedback system."
   ]
  },
  {
   "cell_type": "code",
   "execution_count": 2,
   "id": "f7f08aff",
   "metadata": {
    "execution": {
     "iopub.execute_input": "2023-02-26T19:25:41.230226Z",
     "iopub.status.busy": "2023-02-26T19:25:41.229529Z",
     "iopub.status.idle": "2023-02-26T19:25:41.315231Z",
     "shell.execute_reply": "2023-02-26T19:25:41.313743Z"
    },
    "papermill": {
     "duration": 0.096808,
     "end_time": "2023-02-26T19:25:41.317228",
     "exception": false,
     "start_time": "2023-02-26T19:25:41.220420",
     "status": "completed"
    },
    "tags": []
   },
   "outputs": [
    {
     "name": "stdout",
     "output_type": "stream",
     "text": [
      "Setup Complete\n"
     ]
    }
   ],
   "source": [
    "# Set up code checking\n",
    "import os\n",
    "if not os.path.exists(\"../input/candy.csv\"):\n",
    "    os.symlink(\"../input/data-for-datavis/candy.csv\", \"../input/candy.csv\") \n",
    "from learntools.core import binder\n",
    "binder.bind(globals())\n",
    "from learntools.data_viz_to_coder.ex4 import *\n",
    "print(\"Setup Complete\")"
   ]
  },
  {
   "cell_type": "markdown",
   "id": "f06f8c5b",
   "metadata": {
    "papermill": {
     "duration": 0.006878,
     "end_time": "2023-02-26T19:25:41.331684",
     "exception": false,
     "start_time": "2023-02-26T19:25:41.324806",
     "status": "completed"
    },
    "tags": []
   },
   "source": [
    "## Step 1: Load the Data\n",
    "\n",
    "Read the candy data file into `candy_data`.  Use the `\"id\"` column to label the rows."
   ]
  },
  {
   "cell_type": "code",
   "execution_count": 3,
   "id": "8ca5c668",
   "metadata": {
    "execution": {
     "iopub.execute_input": "2023-02-26T19:25:41.348362Z",
     "iopub.status.busy": "2023-02-26T19:25:41.347637Z",
     "iopub.status.idle": "2023-02-26T19:25:41.362108Z",
     "shell.execute_reply": "2023-02-26T19:25:41.360907Z"
    },
    "papermill": {
     "duration": 0.025745,
     "end_time": "2023-02-26T19:25:41.364520",
     "exception": false,
     "start_time": "2023-02-26T19:25:41.338775",
     "status": "completed"
    },
    "tags": []
   },
   "outputs": [
    {
     "data": {
      "application/javascript": [
       "parent.postMessage({\"jupyterEvent\": \"custom.exercise_interaction\", \"data\": {\"outcomeType\": 1, \"valueTowardsCompletion\": 0.3333333333333333, \"interactionType\": 1, \"questionType\": 1, \"questionId\": \"1_LoadData\", \"learnToolsVersion\": \"0.3.4\", \"failureMessage\": \"\", \"exceptionClass\": \"\", \"trace\": \"\"}}, \"*\")"
      ],
      "text/plain": [
       "<IPython.core.display.Javascript object>"
      ]
     },
     "metadata": {},
     "output_type": "display_data"
    },
    {
     "data": {
      "text/markdown": [
       "<span style=\"color:#33cc33\">Correct</span>"
      ],
      "text/plain": [
       "Correct"
      ]
     },
     "metadata": {},
     "output_type": "display_data"
    }
   ],
   "source": [
    "# Path of the file to read\n",
    "candy_filepath = \"../input/candy.csv\"\n",
    "\n",
    "# Fill in the line below to read the file into a variable candy_data\n",
    "candy_data = pd.read_csv(candy_filepath, index_col = \"id\")\n",
    "\n",
    "# Run the line below with no changes to check that you've loaded the data correctly\n",
    "step_1.check()"
   ]
  },
  {
   "cell_type": "code",
   "execution_count": 4,
   "id": "e9b3875b",
   "metadata": {
    "execution": {
     "iopub.execute_input": "2023-02-26T19:25:41.383636Z",
     "iopub.status.busy": "2023-02-26T19:25:41.383031Z",
     "iopub.status.idle": "2023-02-26T19:25:41.387285Z",
     "shell.execute_reply": "2023-02-26T19:25:41.386141Z"
    },
    "papermill": {
     "duration": 0.015761,
     "end_time": "2023-02-26T19:25:41.388966",
     "exception": false,
     "start_time": "2023-02-26T19:25:41.373205",
     "status": "completed"
    },
    "tags": []
   },
   "outputs": [],
   "source": [
    "# Lines below will give you a hint or solution code\n",
    "# step_1.hint()\n",
    "# step_1.solution()"
   ]
  },
  {
   "cell_type": "markdown",
   "id": "5dfc46fe",
   "metadata": {
    "papermill": {
     "duration": 0.008527,
     "end_time": "2023-02-26T19:25:41.405537",
     "exception": false,
     "start_time": "2023-02-26T19:25:41.397010",
     "status": "completed"
    },
    "tags": []
   },
   "source": [
    "## Step 2: Review the data\n",
    "\n",
    "Use a Python command to print the first five rows of the data."
   ]
  },
  {
   "cell_type": "code",
   "execution_count": 5,
   "id": "4fcbba7d",
   "metadata": {
    "execution": {
     "iopub.execute_input": "2023-02-26T19:25:41.424262Z",
     "iopub.status.busy": "2023-02-26T19:25:41.423610Z",
     "iopub.status.idle": "2023-02-26T19:25:41.440723Z",
     "shell.execute_reply": "2023-02-26T19:25:41.438856Z"
    },
    "papermill": {
     "duration": 0.028849,
     "end_time": "2023-02-26T19:25:41.442730",
     "exception": false,
     "start_time": "2023-02-26T19:25:41.413881",
     "status": "completed"
    },
    "tags": []
   },
   "outputs": [
    {
     "name": "stdout",
     "output_type": "stream",
     "text": [
      "                competitorname chocolate fruity caramel peanutyalmondy nougat  \\\n",
      "id                                                                              \n",
      "0                    100 Grand       Yes     No     Yes             No     No   \n",
      "1                 3 Musketeers       Yes     No      No             No    Yes   \n",
      "2                    Air Heads        No    Yes      No             No     No   \n",
      "3                   Almond Joy       Yes     No      No            Yes     No   \n",
      "4                    Baby Ruth       Yes     No     Yes            Yes    Yes   \n",
      "..                         ...       ...    ...     ...            ...    ...   \n",
      "78                   Twizzlers        No    Yes      No             No     No   \n",
      "79                    Warheads        No    Yes      No             No     No   \n",
      "80        Welch's Fruit Snacks        No    Yes      No             No     No   \n",
      "81  Werther's Original Caramel        No     No     Yes             No     No   \n",
      "82                    Whoppers       Yes     No      No             No     No   \n",
      "\n",
      "   crispedricewafer hard  bar pluribus  sugarpercent  pricepercent  winpercent  \n",
      "id                                                                              \n",
      "0               Yes   No  Yes       No         0.732         0.860   66.971725  \n",
      "1                No   No  Yes       No         0.604         0.511   67.602936  \n",
      "2                No   No   No       No         0.906         0.511   52.341465  \n",
      "3                No   No  Yes       No         0.465         0.767   50.347546  \n",
      "4                No   No  Yes       No         0.604         0.767   56.914547  \n",
      "..              ...  ...  ...      ...           ...           ...         ...  \n",
      "78               No   No   No       No         0.220         0.116   45.466282  \n",
      "79               No  Yes   No       No         0.093         0.116   39.011898  \n",
      "80               No   No   No      Yes         0.313         0.313   44.375519  \n",
      "81               No  Yes   No       No         0.186         0.267   41.904308  \n",
      "82              Yes   No   No      Yes         0.872         0.848   49.524113  \n",
      "\n",
      "[83 rows x 13 columns]\n"
     ]
    }
   ],
   "source": [
    "# Print the first five rows of the data\n",
    "print(candy_data) # Your code here"
   ]
  },
  {
   "cell_type": "markdown",
   "id": "c1caff9f",
   "metadata": {
    "papermill": {
     "duration": 0.007611,
     "end_time": "2023-02-26T19:25:41.458526",
     "exception": false,
     "start_time": "2023-02-26T19:25:41.450915",
     "status": "completed"
    },
    "tags": []
   },
   "source": [
    "The dataset contains 83 rows, where each corresponds to a different candy bar.  There are 13 columns:\n",
    "- `'competitorname'` contains the name of the candy bar. \n",
    "- the next **9** columns (from `'chocolate'` to `'pluribus'`) describe the candy.  For instance, rows with chocolate candies have `\"Yes\"` in the `'chocolate'` column (and candies without chocolate have `\"No\"` in the same column).\n",
    "- `'sugarpercent'` provides some indication of the amount of sugar, where higher values signify higher sugar content.\n",
    "- `'pricepercent'` shows the price per unit, relative to the other candies in the dataset.\n",
    "- `'winpercent'` is calculated from the survey results; higher values indicate that the candy was more popular with survey respondents.\n",
    "\n",
    "Use the first five rows of the data to answer the questions below."
   ]
  },
  {
   "cell_type": "code",
   "execution_count": 6,
   "id": "4db7fc84",
   "metadata": {
    "execution": {
     "iopub.execute_input": "2023-02-26T19:25:41.476709Z",
     "iopub.status.busy": "2023-02-26T19:25:41.476144Z",
     "iopub.status.idle": "2023-02-26T19:25:41.483484Z",
     "shell.execute_reply": "2023-02-26T19:25:41.481963Z"
    },
    "papermill": {
     "duration": 0.019376,
     "end_time": "2023-02-26T19:25:41.485797",
     "exception": false,
     "start_time": "2023-02-26T19:25:41.466421",
     "status": "completed"
    },
    "tags": []
   },
   "outputs": [
    {
     "data": {
      "application/javascript": [
       "parent.postMessage({\"jupyterEvent\": \"custom.exercise_interaction\", \"data\": {\"outcomeType\": 1, \"valueTowardsCompletion\": 0.3333333333333333, \"interactionType\": 1, \"questionType\": 1, \"questionId\": \"2_ReviewData\", \"learnToolsVersion\": \"0.3.4\", \"failureMessage\": \"\", \"exceptionClass\": \"\", \"trace\": \"\"}}, \"*\")"
      ],
      "text/plain": [
       "<IPython.core.display.Javascript object>"
      ]
     },
     "metadata": {},
     "output_type": "display_data"
    },
    {
     "data": {
      "text/markdown": [
       "<span style=\"color:#33cc33\">Correct</span>"
      ],
      "text/plain": [
       "Correct"
      ]
     },
     "metadata": {},
     "output_type": "display_data"
    }
   ],
   "source": [
    "# Fill in the line below: Which candy was more popular with survey respondents:\n",
    "# '3 Musketeers' or 'Almond Joy'?  (Please enclose your answer in single quotes.)\n",
    "more_popular = '3 Musketeers'\n",
    "\n",
    "# Fill in the line below: Which candy has higher sugar content: 'Air Heads'\n",
    "# or 'Baby Ruth'? (Please enclose your answer in single quotes.)\n",
    "more_sugar = 'Air Heads'\n",
    "\n",
    "# Check your answers\n",
    "step_2.check()"
   ]
  },
  {
   "cell_type": "code",
   "execution_count": 7,
   "id": "e14dd7d4",
   "metadata": {
    "execution": {
     "iopub.execute_input": "2023-02-26T19:25:41.504889Z",
     "iopub.status.busy": "2023-02-26T19:25:41.504482Z",
     "iopub.status.idle": "2023-02-26T19:25:41.510410Z",
     "shell.execute_reply": "2023-02-26T19:25:41.508009Z"
    },
    "papermill": {
     "duration": 0.01866,
     "end_time": "2023-02-26T19:25:41.513069",
     "exception": false,
     "start_time": "2023-02-26T19:25:41.494409",
     "status": "completed"
    },
    "tags": []
   },
   "outputs": [],
   "source": [
    "# Lines below will give you a hint or solution code\n",
    "# step_2.hint()\n",
    "# step_2.solution()"
   ]
  },
  {
   "cell_type": "markdown",
   "id": "9e0de638",
   "metadata": {
    "papermill": {
     "duration": 0.007582,
     "end_time": "2023-02-26T19:25:41.529430",
     "exception": false,
     "start_time": "2023-02-26T19:25:41.521848",
     "status": "completed"
    },
    "tags": []
   },
   "source": [
    "## Step 3: The role of sugar\n",
    "\n",
    "Do people tend to prefer candies with higher sugar content?  \n",
    "\n",
    "#### Part A\n",
    "\n",
    "Create a scatter plot that shows the relationship between `'sugarpercent'` (on the horizontal x-axis) and `'winpercent'` (on the vertical y-axis).  _Don't add a regression line just yet -- you'll do that in the next step!_"
   ]
  },
  {
   "cell_type": "code",
   "execution_count": 8,
   "id": "50385b7e",
   "metadata": {
    "execution": {
     "iopub.execute_input": "2023-02-26T19:25:41.547960Z",
     "iopub.status.busy": "2023-02-26T19:25:41.547619Z",
     "iopub.status.idle": "2023-02-26T19:25:41.781481Z",
     "shell.execute_reply": "2023-02-26T19:25:41.780600Z"
    },
    "papermill": {
     "duration": 0.246539,
     "end_time": "2023-02-26T19:25:41.783898",
     "exception": false,
     "start_time": "2023-02-26T19:25:41.537359",
     "status": "completed"
    },
    "tags": []
   },
   "outputs": [
    {
     "data": {
      "application/javascript": [
       "parent.postMessage({\"jupyterEvent\": \"custom.exercise_interaction\", \"data\": {\"outcomeType\": 1, \"valueTowardsCompletion\": 0.3333333333333333, \"interactionType\": 1, \"questionType\": 2, \"questionId\": \"3.1_PlotBlueScatter\", \"learnToolsVersion\": \"0.3.4\", \"failureMessage\": \"\", \"exceptionClass\": \"\", \"trace\": \"\"}}, \"*\")"
      ],
      "text/plain": [
       "<IPython.core.display.Javascript object>"
      ]
     },
     "metadata": {},
     "output_type": "display_data"
    },
    {
     "data": {
      "text/markdown": [
       "<span style=\"color:#33cc33\">Correct</span>"
      ],
      "text/plain": [
       "Correct"
      ]
     },
     "metadata": {},
     "output_type": "display_data"
    },
    {
     "data": {
      "image/png": "[encoded data removed]",
      "text/plain": [
       "<Figure size 640x480 with 1 Axes>"
      ]
     },
     "metadata": {},
     "output_type": "display_data"
    }
   ],
   "source": [
    "# Scatter plot showing the relationship between 'sugarpercent' and 'winpercent'\n",
    "sns.scatterplot(x=candy_data['sugarpercent'], y=candy_data['winpercent']) # Your code here\n",
    "\n",
    "# Check your answer\n",
    "step_3.a.check()"
   ]
  },
  {
   "cell_type": "code",
   "execution_count": 9,
   "id": "da74e0a5",
   "metadata": {
    "execution": {
     "iopub.execute_input": "2023-02-26T19:25:41.802406Z",
     "iopub.status.busy": "2023-02-26T19:25:41.802045Z",
     "iopub.status.idle": "2023-02-26T19:25:41.807021Z",
     "shell.execute_reply": "2023-02-26T19:25:41.805481Z"
    },
    "papermill": {
     "duration": 0.016935,
     "end_time": "2023-02-26T19:25:41.809635",
     "exception": false,
     "start_time": "2023-02-26T19:25:41.792700",
     "status": "completed"
    },
    "tags": []
   },
   "outputs": [],
   "source": [
    "# Lines below will give you a hint or solution code\n",
    "# step_3.a.hint()\n",
    "# step_3.a.solution_plot()"
   ]
  },
  {
   "cell_type": "markdown",
   "id": "c39faa6d",
   "metadata": {
    "papermill": {
     "duration": 0.008393,
     "end_time": "2023-02-26T19:25:41.827171",
     "exception": false,
     "start_time": "2023-02-26T19:25:41.818778",
     "status": "completed"
    },
    "tags": []
   },
   "source": [
    "#### Part B\n",
    "\n",
    "Does the scatter plot show a **strong** correlation between the two variables?  If so, are candies with more sugar relatively more or less popular with the survey respondents?"
   ]
  },
  {
   "cell_type": "code",
   "execution_count": 10,
   "id": "7104bbf6",
   "metadata": {
    "execution": {
     "iopub.execute_input": "2023-02-26T19:25:41.846663Z",
     "iopub.status.busy": "2023-02-26T19:25:41.846267Z",
     "iopub.status.idle": "2023-02-26T19:25:41.850241Z",
     "shell.execute_reply": "2023-02-26T19:25:41.849141Z"
    },
    "papermill": {
     "duration": 0.016105,
     "end_time": "2023-02-26T19:25:41.852094",
     "exception": false,
     "start_time": "2023-02-26T19:25:41.835989",
     "status": "completed"
    },
    "tags": []
   },
   "outputs": [],
   "source": [
    "# step_3.b.hint()"
   ]
  },
  {
   "cell_type": "code",
   "execution_count": 11,
   "id": "80d0c80f",
   "metadata": {
    "execution": {
     "iopub.execute_input": "2023-02-26T19:25:41.872178Z",
     "iopub.status.busy": "2023-02-26T19:25:41.871577Z",
     "iopub.status.idle": "2023-02-26T19:25:41.878629Z",
     "shell.execute_reply": "2023-02-26T19:25:41.877944Z"
    },
    "papermill": {
     "duration": 0.01932,
     "end_time": "2023-02-26T19:25:41.880373",
     "exception": false,
     "start_time": "2023-02-26T19:25:41.861053",
     "status": "completed"
    },
    "tags": []
   },
   "outputs": [
    {
     "data": {
      "application/javascript": [
       "parent.postMessage({\"jupyterEvent\": \"custom.exercise_interaction\", \"data\": {\"interactionType\": 3, \"questionType\": 4, \"questionId\": \"3.2_ThinkBlueScatter\", \"learnToolsVersion\": \"0.3.4\", \"valueTowardsCompletion\": 0.0, \"failureMessage\": \"\", \"exceptionClass\": \"\", \"trace\": \"\", \"outcomeType\": 4}}, \"*\")"
      ],
      "text/plain": [
       "<IPython.core.display.Javascript object>"
      ]
     },
     "metadata": {},
     "output_type": "display_data"
    },
    {
     "data": {
      "text/markdown": [
       "<span style=\"color:#33cc99\">Solution:</span> The scatter plot does not show a strong correlation between the two variables. Since there is no clear relationship between the two variables, this tells us that sugar content does not play a strong role in candy popularity."
      ],
      "text/plain": [
       "Solution: The scatter plot does not show a strong correlation between the two variables. Since there is no clear relationship between the two variables, this tells us that sugar content does not play a strong role in candy popularity."
      ]
     },
     "metadata": {},
     "output_type": "display_data"
    }
   ],
   "source": [
    "# Check your answer (Run this code cell to receive credit!)\n",
    "step_3.b.solution()"
   ]
  },
  {
   "cell_type": "markdown",
   "id": "0ced15fc",
   "metadata": {
    "papermill": {
     "duration": 0.009041,
     "end_time": "2023-02-26T19:25:41.899316",
     "exception": false,
     "start_time": "2023-02-26T19:25:41.890275",
     "status": "completed"
    },
    "tags": []
   },
   "source": [
    "## Step 4: Take a closer look\n",
    "\n",
    "#### Part A\n",
    "\n",
    "Create the same scatter plot you created in **Step 3**, but now with a regression line!"
   ]
  },
  {
   "cell_type": "code",
   "execution_count": 12,
   "id": "9733c4e4",
   "metadata": {
    "execution": {
     "iopub.execute_input": "2023-02-26T19:25:41.919382Z",
     "iopub.status.busy": "2023-02-26T19:25:41.918889Z",
     "iopub.status.idle": "2023-02-26T19:25:42.194332Z",
     "shell.execute_reply": "2023-02-26T19:25:42.192505Z"
    },
    "papermill": {
     "duration": 0.289049,
     "end_time": "2023-02-26T19:25:42.197381",
     "exception": false,
     "start_time": "2023-02-26T19:25:41.908332",
     "status": "completed"
    },
    "tags": []
   },
   "outputs": [
    {
     "data": {
      "application/javascript": [
       "parent.postMessage({\"jupyterEvent\": \"custom.exercise_interaction\", \"data\": {\"outcomeType\": 1, \"valueTowardsCompletion\": 0.3333333333333333, \"interactionType\": 1, \"questionType\": 2, \"questionId\": \"4.1_PlotBlueReg\", \"learnToolsVersion\": \"0.3.4\", \"failureMessage\": \"\", \"exceptionClass\": \"\", \"trace\": \"\"}}, \"*\")"
      ],
      "text/plain": [
       "<IPython.core.display.Javascript object>"
      ]
     },
     "metadata": {},
     "output_type": "display_data"
    },
    {
     "data": {
      "text/markdown": [
       "<span style=\"color:#33cc33\">Correct</span>"
      ],
      "text/plain": [
       "Correct"
      ]
     },
     "metadata": {},
     "output_type": "display_data"
    },
    {
     "data": {
      "image/png": "[encoded data removed]",
      "text/plain": [
       "<Figure size 640x480 with 1 Axes>"
      ]
     },
     "metadata": {},
     "output_type": "display_data"
    }
   ],
   "source": [
    "# Scatter plot w/ regression line showing the relationship between 'sugarpercent' and 'winpercent'\n",
    "sns.regplot(x=candy_data['sugarpercent'], y=candy_data['winpercent']) # Your code here\n",
    "\n",
    "# Check your answer\n",
    "step_4.a.check()"
   ]
  },
  {
   "cell_type": "code",
   "execution_count": 13,
   "id": "436f3efc",
   "metadata": {
    "execution": {
     "iopub.execute_input": "2023-02-26T19:25:42.219077Z",
     "iopub.status.busy": "2023-02-26T19:25:42.218711Z",
     "iopub.status.idle": "2023-02-26T19:25:42.224455Z",
     "shell.execute_reply": "2023-02-26T19:25:42.222192Z"
    },
    "papermill": {
     "duration": 0.019724,
     "end_time": "2023-02-26T19:25:42.227202",
     "exception": false,
     "start_time": "2023-02-26T19:25:42.207478",
     "status": "completed"
    },
    "tags": []
   },
   "outputs": [],
   "source": [
    "# Lines below will give you a hint or solution code\n",
    "# step_4.a.hint()\n",
    "# step_4.a.solution_plot()"
   ]
  },
  {
   "cell_type": "markdown",
   "id": "3d060760",
   "metadata": {
    "papermill": {
     "duration": 0.009457,
     "end_time": "2023-02-26T19:25:42.246856",
     "exception": false,
     "start_time": "2023-02-26T19:25:42.237399",
     "status": "completed"
    },
    "tags": []
   },
   "source": [
    "#### Part B\n",
    "\n",
    "According to the plot above, is there a **slight** correlation between `'winpercent'` and `'sugarpercent'`?  What does this tell you about the candy that people tend to prefer?"
   ]
  },
  {
   "cell_type": "code",
   "execution_count": 14,
   "id": "c433bda9",
   "metadata": {
    "execution": {
     "iopub.execute_input": "2023-02-26T19:25:42.269102Z",
     "iopub.status.busy": "2023-02-26T19:25:42.268556Z",
     "iopub.status.idle": "2023-02-26T19:25:42.274172Z",
     "shell.execute_reply": "2023-02-26T19:25:42.272900Z"
    },
    "papermill": {
     "duration": 0.019733,
     "end_time": "2023-02-26T19:25:42.276813",
     "exception": false,
     "start_time": "2023-02-26T19:25:42.257080",
     "status": "completed"
    },
    "tags": []
   },
   "outputs": [],
   "source": [
    "# step_4.b.hint()"
   ]
  },
  {
   "cell_type": "code",
   "execution_count": 15,
   "id": "561dc127",
   "metadata": {
    "execution": {
     "iopub.execute_input": "2023-02-26T19:25:42.299134Z",
     "iopub.status.busy": "2023-02-26T19:25:42.298773Z",
     "iopub.status.idle": "2023-02-26T19:25:42.308686Z",
     "shell.execute_reply": "2023-02-26T19:25:42.307657Z"
    },
    "papermill": {
     "duration": 0.023511,
     "end_time": "2023-02-26T19:25:42.310812",
     "exception": false,
     "start_time": "2023-02-26T19:25:42.287301",
     "status": "completed"
    },
    "tags": []
   },
   "outputs": [
    {
     "data": {
      "application/javascript": [
       "parent.postMessage({\"jupyterEvent\": \"custom.exercise_interaction\", \"data\": {\"interactionType\": 3, \"questionType\": 4, \"questionId\": \"4.2_ThinkBlueReg\", \"learnToolsVersion\": \"0.3.4\", \"valueTowardsCompletion\": 0.0, \"failureMessage\": \"\", \"exceptionClass\": \"\", \"trace\": \"\", \"outcomeType\": 4}}, \"*\")"
      ],
      "text/plain": [
       "<IPython.core.display.Javascript object>"
      ]
     },
     "metadata": {},
     "output_type": "display_data"
    },
    {
     "data": {
      "text/markdown": [
       "<span style=\"color:#33cc99\">Solution:</span> Since the regression line has a slightly positive slope, this tells us that there is a slightly positive correlation between `'winpercent'` and `'sugarpercent'`. Thus, people have a slight preference for candies containing relatively more sugar."
      ],
      "text/plain": [
       "Solution: Since the regression line has a slightly positive slope, this tells us that there is a slightly positive correlation between `'winpercent'` and `'sugarpercent'`. Thus, people have a slight preference for candies containing relatively more sugar."
      ]
     },
     "metadata": {},
     "output_type": "display_data"
    }
   ],
   "source": [
    "# Check your answer (Run this code cell to receive credit!)\n",
    "step_4.b.solution()"
   ]
  },
  {
   "cell_type": "markdown",
   "id": "deaa6dea",
   "metadata": {
    "papermill": {
     "duration": 0.010011,
     "end_time": "2023-02-26T19:25:42.331181",
     "exception": false,
     "start_time": "2023-02-26T19:25:42.321170",
     "status": "completed"
    },
    "tags": []
   },
   "source": [
    "## Step 5: Chocolate!\n",
    "\n",
    "In the code cell below, create a scatter plot to show the relationship between `'pricepercent'` (on the horizontal x-axis) and `'winpercent'` (on the vertical y-axis). Use the `'chocolate'` column to color-code the points.  _Don't add any regression lines just yet -- you'll do that in the next step!_"
   ]
  },
  {
   "cell_type": "code",
   "execution_count": 16,
   "id": "1c0f45e9",
   "metadata": {
    "execution": {
     "iopub.execute_input": "2023-02-26T19:25:42.353189Z",
     "iopub.status.busy": "2023-02-26T19:25:42.352854Z",
     "iopub.status.idle": "2023-02-26T19:25:42.614488Z",
     "shell.execute_reply": "2023-02-26T19:25:42.613369Z"
    },
    "papermill": {
     "duration": 0.275225,
     "end_time": "2023-02-26T19:25:42.616569",
     "exception": false,
     "start_time": "2023-02-26T19:25:42.341344",
     "status": "completed"
    },
    "tags": []
   },
   "outputs": [
    {
     "data": {
      "application/javascript": [
       "parent.postMessage({\"jupyterEvent\": \"custom.exercise_interaction\", \"data\": {\"outcomeType\": 1, \"valueTowardsCompletion\": 0.3333333333333333, \"interactionType\": 1, \"questionType\": 2, \"questionId\": \"5_ColorScatter\", \"learnToolsVersion\": \"0.3.4\", \"failureMessage\": \"\", \"exceptionClass\": \"\", \"trace\": \"\"}}, \"*\")"
      ],
      "text/plain": [
       "<IPython.core.display.Javascript object>"
      ]
     },
     "metadata": {},
     "output_type": "display_data"
    },
    {
     "data": {
      "text/markdown": [
       "<span style=\"color:#33cc33\">Correct</span>"
      ],
      "text/plain": [
       "Correct"
      ]
     },
     "metadata": {},
     "output_type": "display_data"
    },
    {
     "data": {
      "image/png": "[encoded data removed]",
      "text/plain": [
       "<Figure size 640x480 with 1 Axes>"
      ]
     },
     "metadata": {},
     "output_type": "display_data"
    }
   ],
   "source": [
    "# Scatter plot showing the relationship between 'pricepercent', 'winpercent', and 'chocolate'\n",
    "sns.scatterplot(x=candy_data['pricepercent'], y=candy_data['winpercent'], hue=candy_data['chocolate']) # Your code here\n",
    "\n",
    "# Check your answer\n",
    "step_5.check()"
   ]
  },
  {
   "cell_type": "code",
   "execution_count": 17,
   "id": "45959f1e",
   "metadata": {
    "execution": {
     "iopub.execute_input": "2023-02-26T19:25:42.639848Z",
     "iopub.status.busy": "2023-02-26T19:25:42.639513Z",
     "iopub.status.idle": "2023-02-26T19:25:42.645121Z",
     "shell.execute_reply": "2023-02-26T19:25:42.643868Z"
    },
    "papermill": {
     "duration": 0.020655,
     "end_time": "2023-02-26T19:25:42.647942",
     "exception": false,
     "start_time": "2023-02-26T19:25:42.627287",
     "status": "completed"
    },
    "tags": []
   },
   "outputs": [],
   "source": [
    "# Lines below will give you a hint or solution code\n",
    "# step_5.hint()\n",
    "# step_5.solution_plot()"
   ]
  },
  {
   "cell_type": "markdown",
   "id": "4434ad2d",
   "metadata": {
    "papermill": {
     "duration": 0.010431,
     "end_time": "2023-02-26T19:25:42.669060",
     "exception": false,
     "start_time": "2023-02-26T19:25:42.658629",
     "status": "completed"
    },
    "tags": []
   },
   "source": [
    "Can you see any interesting patterns in the scatter plot?  We'll investigate this plot further  by adding regression lines in the next step!\n",
    "\n",
    "## Step 6: Investigate chocolate\n",
    "\n",
    "#### Part A\n",
    "\n",
    "Create the same scatter plot you created in **Step 5**, but now with two regression lines, corresponding to (1) chocolate candies and (2) candies without chocolate."
   ]
  },
  {
   "cell_type": "code",
   "execution_count": 18,
   "id": "e458e161",
   "metadata": {
    "execution": {
     "iopub.execute_input": "2023-02-26T19:25:42.693537Z",
     "iopub.status.busy": "2023-02-26T19:25:42.693192Z",
     "iopub.status.idle": "2023-02-26T19:25:43.212592Z",
     "shell.execute_reply": "2023-02-26T19:25:43.211793Z"
    },
    "papermill": {
     "duration": 0.534887,
     "end_time": "2023-02-26T19:25:43.214978",
     "exception": false,
     "start_time": "2023-02-26T19:25:42.680091",
     "status": "completed"
    },
    "tags": []
   },
   "outputs": [
    {
     "data": {
      "application/javascript": [
       "parent.postMessage({\"jupyterEvent\": \"custom.exercise_interaction\", \"data\": {\"outcomeType\": 1, \"valueTowardsCompletion\": 0.3333333333333333, \"interactionType\": 1, \"questionType\": 2, \"questionId\": \"6.1_PlotColorReg\", \"learnToolsVersion\": \"0.3.4\", \"failureMessage\": \"\", \"exceptionClass\": \"\", \"trace\": \"\"}}, \"*\")"
      ],
      "text/plain": [
       "<IPython.core.display.Javascript object>"
      ]
     },
     "metadata": {},
     "output_type": "display_data"
    },
    {
     "data": {
      "text/markdown": [
       "<span style=\"color:#33cc33\">Correct</span>"
      ],
      "text/plain": [
       "Correct"
      ]
     },
     "metadata": {},
     "output_type": "display_data"
    },
    {
     "data": {
      "image/png": "[encoded data removed]",
      "text/plain": [
       "<Figure size 578.611x500 with 1 Axes>"
      ]
     },
     "metadata": {},
     "output_type": "display_data"
    }
   ],
   "source": [
    "# Color-coded scatter plot w/ regression lines\n",
    "sns.lmplot(x=\"pricepercent\", y=\"winpercent\", hue=\"chocolate\", data=candy_data) # Your code here\n",
    "\n",
    "# Check your answer\n",
    "step_6.a.check()"
   ]
  },
  {
   "cell_type": "code",
   "execution_count": 19,
   "id": "ae13b84c",
   "metadata": {
    "execution": {
     "iopub.execute_input": "2023-02-26T19:25:43.240203Z",
     "iopub.status.busy": "2023-02-26T19:25:43.239873Z",
     "iopub.status.idle": "2023-02-26T19:25:43.244838Z",
     "shell.execute_reply": "2023-02-26T19:25:43.243454Z"
    },
    "papermill": {
     "duration": 0.020639,
     "end_time": "2023-02-26T19:25:43.247274",
     "exception": false,
     "start_time": "2023-02-26T19:25:43.226635",
     "status": "completed"
    },
    "tags": []
   },
   "outputs": [],
   "source": [
    "# Lines below will give you a hint or solution code\n",
    "# step_6.a.hint()\n",
    "# step_6.a.solution_plot()"
   ]
  },
  {
   "cell_type": "markdown",
   "id": "96b35847",
   "metadata": {
    "papermill": {
     "duration": 0.01073,
     "end_time": "2023-02-26T19:25:43.269505",
     "exception": false,
     "start_time": "2023-02-26T19:25:43.258775",
     "status": "completed"
    },
    "tags": []
   },
   "source": [
    "#### Part B\n",
    "\n",
    "Using the regression lines, what conclusions can you draw about the effects of chocolate and price on candy popularity?"
   ]
  },
  {
   "cell_type": "code",
   "execution_count": 20,
   "id": "ccc18352",
   "metadata": {
    "execution": {
     "iopub.execute_input": "2023-02-26T19:25:43.294121Z",
     "iopub.status.busy": "2023-02-26T19:25:43.293746Z",
     "iopub.status.idle": "2023-02-26T19:25:43.300191Z",
     "shell.execute_reply": "2023-02-26T19:25:43.298156Z"
    },
    "papermill": {
     "duration": 0.021885,
     "end_time": "2023-02-26T19:25:43.303159",
     "exception": false,
     "start_time": "2023-02-26T19:25:43.281274",
     "status": "completed"
    },
    "tags": []
   },
   "outputs": [],
   "source": [
    "# step_6.b.hint()"
   ]
  },
  {
   "cell_type": "code",
   "execution_count": 21,
   "id": "7f8c5ba0",
   "metadata": {
    "execution": {
     "iopub.execute_input": "2023-02-26T19:25:43.327999Z",
     "iopub.status.busy": "2023-02-26T19:25:43.327633Z",
     "iopub.status.idle": "2023-02-26T19:25:43.338534Z",
     "shell.execute_reply": "2023-02-26T19:25:43.337024Z"
    },
    "papermill": {
     "duration": 0.025994,
     "end_time": "2023-02-26T19:25:43.340833",
     "exception": false,
     "start_time": "2023-02-26T19:25:43.314839",
     "status": "completed"
    },
    "tags": []
   },
   "outputs": [
    {
     "data": {
      "application/javascript": [
       "parent.postMessage({\"jupyterEvent\": \"custom.exercise_interaction\", \"data\": {\"interactionType\": 3, \"questionType\": 4, \"questionId\": \"6.2_ThinkColorReg\", \"learnToolsVersion\": \"0.3.4\", \"valueTowardsCompletion\": 0.0, \"failureMessage\": \"\", \"exceptionClass\": \"\", \"trace\": \"\", \"outcomeType\": 4}}, \"*\")"
      ],
      "text/plain": [
       "<IPython.core.display.Javascript object>"
      ]
     },
     "metadata": {},
     "output_type": "display_data"
    },
    {
     "data": {
      "text/markdown": [
       "<span style=\"color:#33cc99\">Solution:</span> We'll begin with the regression line for chocolate candies. Since this line has a slightly positive slope, we can say that more expensive chocolate candies tend to be more popular (than relatively cheaper chocolate candies).  Likewise, since the regression line for candies without chocolate has a negative slope, we can say that if candies don't contain chocolate, they tend to be more popular when they are cheaper.  One important note, however, is that the dataset is quite small -- so we shouldn't invest too much trust in these patterns!  To inspire more confidence in the results, we should add more candies to the dataset."
      ],
      "text/plain": [
       "Solution: We'll begin with the regression line for chocolate candies. Since this line has a slightly positive slope, we can say that more expensive chocolate candies tend to be more popular (than relatively cheaper chocolate candies).  Likewise, since the regression line for candies without chocolate has a negative slope, we can say that if candies don't contain chocolate, they tend to be more popular when they are cheaper.  One important note, however, is that the dataset is quite small -- so we shouldn't invest too much trust in these patterns!  To inspire more confidence in the results, we should add more candies to the dataset."
      ]
     },
     "metadata": {},
     "output_type": "display_data"
    }
   ],
   "source": [
    "# Check your answer (Run this code cell to receive credit!)\n",
    "step_6.b.solution()"
   ]
  },
  {
   "cell_type": "markdown",
   "id": "c0950c98",
   "metadata": {
    "papermill": {
     "duration": 0.010796,
     "end_time": "2023-02-26T19:25:43.363192",
     "exception": false,
     "start_time": "2023-02-26T19:25:43.352396",
     "status": "completed"
    },
    "tags": []
   },
   "source": [
    "## Step 7: Everybody loves chocolate.\n",
    "\n",
    "#### Part A\n",
    "\n",
    "Create a categorical scatter plot to highlight the relationship between `'chocolate'` and `'winpercent'`.  Put `'chocolate'` on the (horizontal) x-axis, and `'winpercent'` on the (vertical) y-axis."
   ]
  },
  {
   "cell_type": "code",
   "execution_count": 22,
   "id": "63955214",
   "metadata": {
    "execution": {
     "iopub.execute_input": "2023-02-26T19:25:43.388318Z",
     "iopub.status.busy": "2023-02-26T19:25:43.387972Z",
     "iopub.status.idle": "2023-02-26T19:25:43.648416Z",
     "shell.execute_reply": "2023-02-26T19:25:43.647319Z"
    },
    "papermill": {
     "duration": 0.276718,
     "end_time": "2023-02-26T19:25:43.651163",
     "exception": false,
     "start_time": "2023-02-26T19:25:43.374445",
     "status": "completed"
    },
    "tags": []
   },
   "outputs": [
    {
     "data": {
      "application/javascript": [
       "parent.postMessage({\"jupyterEvent\": \"custom.exercise_interaction\", \"data\": {\"outcomeType\": 1, \"valueTowardsCompletion\": 0.3333333333333333, \"interactionType\": 1, \"questionType\": 2, \"questionId\": \"7.1_PlotSwarm\", \"learnToolsVersion\": \"0.3.4\", \"failureMessage\": \"\", \"exceptionClass\": \"\", \"trace\": \"\"}}, \"*\")"
      ],
      "text/plain": [
       "<IPython.core.display.Javascript object>"
      ]
     },
     "metadata": {},
     "output_type": "display_data"
    },
    {
     "data": {
      "text/markdown": [
       "<span style=\"color:#33cc33\">Correct</span>"
      ],
      "text/plain": [
       "Correct"
      ]
     },
     "metadata": {},
     "output_type": "display_data"
    },
    {
     "data": {
      "image/png": "[encoded data removed]",
      "text/plain": [
       "<Figure size 640x480 with 1 Axes>"
      ]
     },
     "metadata": {},
     "output_type": "display_data"
    }
   ],
   "source": [
    "# Scatter plot showing the relationship between 'chocolate' and 'winpercent'\n",
    "sns.swarmplot(x=candy_data['chocolate'], y=candy_data['winpercent']) # Your code here\n",
    "\n",
    "# Check your answer\n",
    "step_7.a.check()"
   ]
  },
  {
   "cell_type": "code",
   "execution_count": 23,
   "id": "97a727d9",
   "metadata": {
    "execution": {
     "iopub.execute_input": "2023-02-26T19:25:43.686387Z",
     "iopub.status.busy": "2023-02-26T19:25:43.685917Z",
     "iopub.status.idle": "2023-02-26T19:25:43.690794Z",
     "shell.execute_reply": "2023-02-26T19:25:43.689694Z"
    },
    "papermill": {
     "duration": 0.025834,
     "end_time": "2023-02-26T19:25:43.693011",
     "exception": false,
     "start_time": "2023-02-26T19:25:43.667177",
     "status": "completed"
    },
    "tags": []
   },
   "outputs": [],
   "source": [
    "# Lines below will give you a hint or solution code\n",
    "# step_7.a.hint()\n",
    "# step_7.a.solution_plot()"
   ]
  },
  {
   "cell_type": "markdown",
   "id": "f4cd6f9a",
   "metadata": {
    "papermill": {
     "duration": 0.015127,
     "end_time": "2023-02-26T19:25:43.724961",
     "exception": false,
     "start_time": "2023-02-26T19:25:43.709834",
     "status": "completed"
    },
    "tags": []
   },
   "source": [
    "#### Part B\n",
    "\n",
    "You decide to dedicate a section of your report to the fact that chocolate candies tend to be more popular than candies without chocolate.  Which plot is more appropriate to tell this story: the plot from **Step 6**, or the plot from **Step 7**?"
   ]
  },
  {
   "cell_type": "code",
   "execution_count": 24,
   "id": "c2241ce7",
   "metadata": {
    "execution": {
     "iopub.execute_input": "2023-02-26T19:25:43.751591Z",
     "iopub.status.busy": "2023-02-26T19:25:43.750687Z",
     "iopub.status.idle": "2023-02-26T19:25:43.755852Z",
     "shell.execute_reply": "2023-02-26T19:25:43.754048Z"
    },
    "papermill": {
     "duration": 0.021574,
     "end_time": "2023-02-26T19:25:43.758495",
     "exception": false,
     "start_time": "2023-02-26T19:25:43.736921",
     "status": "completed"
    },
    "tags": []
   },
   "outputs": [],
   "source": [
    "#s tep_7.b.hint()"
   ]
  },
  {
   "cell_type": "code",
   "execution_count": 25,
   "id": "ef8c6d60",
   "metadata": {
    "execution": {
     "iopub.execute_input": "2023-02-26T19:25:43.785489Z",
     "iopub.status.busy": "2023-02-26T19:25:43.784561Z",
     "iopub.status.idle": "2023-02-26T19:25:43.793003Z",
     "shell.execute_reply": "2023-02-26T19:25:43.791779Z"
    },
    "papermill": {
     "duration": 0.024093,
     "end_time": "2023-02-26T19:25:43.795072",
     "exception": false,
     "start_time": "2023-02-26T19:25:43.770979",
     "status": "completed"
    },
    "tags": []
   },
   "outputs": [
    {
     "data": {
      "application/javascript": [
       "parent.postMessage({\"jupyterEvent\": \"custom.exercise_interaction\", \"data\": {\"interactionType\": 3, \"questionType\": 4, \"questionId\": \"7.2_ThinkSwarm\", \"learnToolsVersion\": \"0.3.4\", \"valueTowardsCompletion\": 0.0, \"failureMessage\": \"\", \"exceptionClass\": \"\", \"trace\": \"\", \"outcomeType\": 4}}, \"*\")"
      ],
      "text/plain": [
       "<IPython.core.display.Javascript object>"
      ]
     },
     "metadata": {},
     "output_type": "display_data"
    },
    {
     "data": {
      "text/markdown": [
       "<span style=\"color:#33cc99\">Solution:</span> In this case, the categorical scatter plot from **Step 7** is the more appropriate plot. While both plots tell the desired story, the plot from **Step 6** conveys far more information that could distract from the main point."
      ],
      "text/plain": [
       "Solution: In this case, the categorical scatter plot from **Step 7** is the more appropriate plot. While both plots tell the desired story, the plot from **Step 6** conveys far more information that could distract from the main point."
      ]
     },
     "metadata": {},
     "output_type": "display_data"
    }
   ],
   "source": [
    "# Check your answer (Run this code cell to receive credit!)\n",
    "step_7.b.solution()"
   ]
  },
  {
   "cell_type": "markdown",
   "id": "fcd15c3e",
   "metadata": {
    "papermill": {
     "duration": 0.011765,
     "end_time": "2023-02-26T19:25:43.819168",
     "exception": false,
     "start_time": "2023-02-26T19:25:43.807403",
     "status": "completed"
    },
    "tags": []
   },
   "source": [
    "## Keep going\n",
    "\n",
    "Explore **[histograms and density plots](https://www.kaggle.com/alexisbcook/distributions)**."
   ]
  },
  {
   "cell_type": "markdown",
   "id": "882f9594",
   "metadata": {
    "papermill": {
     "duration": 0.010936,
     "end_time": "2023-02-26T19:25:43.841262",
     "exception": false,
     "start_time": "2023-02-26T19:25:43.830326",
     "status": "completed"
    },
    "tags": []
   },
   "source": [
    "---\n",
    "\n",
    "\n",
    "\n",
    "\n",
    "*Have questions or comments? Visit the [course discussion forum](https://www.kaggle.com/learn/data-visualization/discussion) to chat with other learners.*"
   ]
  }
 ],
 "metadata": {
  "kernelspec": {
   "display_name": "Python 3",
   "language": "python",
   "name": "python3"
  },
  "language_info": {
   "codemirror_mode": {
    "name": "ipython",
    "version": 3
   },
   "file_extension": ".py",
   "mimetype": "text/x-python",
   "name": "python",
   "nbconvert_exporter": "python",
   "pygments_lexer": "ipython3",
   "version": "3.7.12"
  },
  "papermill": {
   "default_parameters": {},
   "duration": 14.679399,
   "end_time": "2023-02-26T19:25:44.675792",
   "environment_variables": {},
   "exception": null,
   "input_path": "__notebook__.ipynb",
   "output_path": "__notebook__.ipynb",
   "parameters": {},
   "start_time": "2023-02-26T19:25:29.996393",
   "version": "2.4.0"
  }
 },
 "nbformat": 4,
 "nbformat_minor": 5
}
